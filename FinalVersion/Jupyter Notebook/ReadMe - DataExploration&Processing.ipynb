DataExploration&Processing.ipynb

!!!Please download all neccessary library or run the code on Google Colab!!!

What does the notebook do?
1. ceonvert the raw data into csv format
2. Summary of the dataset
3. Check and replace SCAT sites that have latitude/longitude 0 (see cell 4)
4. Look for SCAT that has less than 31 days of data
5. Oversampling the dataset to let every SCAT have 31 days of data
6. Look for how many location does a SCAT site
7. Change the full dataset into a format of:
   <SCAT> <location> ........ <Date/time> <count>
8. Split the full dataset into having each SCAT/location as a individual CSV file


Directory that need to change:
Cell 2:
input:
xls_path = "C:/Swinburne/2025Sem1/COS30019-Introduction to Artificial Intelligence/Assignment 2B/CanvasFiles/Raw Data/Scats Data October 2006.xls"

output:
csv_path = "C:/Swinburne/2025Sem1/COS30019-Introduction to Artificial Intelligence/Assignment 2B/Processed Data/Scats Data October 2006.csv"


cell 3:
input:
df = pd.read_csv("C:/Swinburne/2025Sem1/COS30019-Introduction to Artificial Intelligence/Assignment 2B/Processed Data/Scats Data October 2006.csv")

cell 4:
output:
df.to_csv("C:/Swinburne/2025Sem1/COS30019-Introduction to Artificial Intelligence/Assignment 2B/Processed Data/Scats Data October 2006.csv", index = False)

cell 6:
output:
df_filled.to_csv("C:/Swinburne/2025Sem1/COS30019-Introduction to Artificial Intelligence/Assignment 2B/Processed Data/Oversampling Scats Data October 2006.csv", index=False)

cell 9:
output:
df_long.to_csv("C:/Swinburne/2025Sem1/COS30019-Introduction to Artificial Intelligence/Assignment 2B/Processed Data/Sorted Scats Data October 2006.csv", index=False)

cell 10:
if __name__ == '__main__':
    split_scats(
        "C:/Swinburne/2025Sem1/COS30019-Introduction to Artificial Intelligence/Assignment 2B/Processed Data/Sorted Scats Data October 2006.csv", <---input
        "C:/Swinburne/2025Sem1/COS30019-Introduction to Artificial Intelligence/Assignment 2B/Processed Data/per_site_csvs/" <---output (to a folder)
    )
